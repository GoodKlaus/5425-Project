{
 "cells": [
  {
   "cell_type": "code",
   "execution_count": 73,
   "metadata": {},
   "outputs": [],
   "source": [
    "import pandas as pd"
   ]
  },
  {
   "cell_type": "code",
   "execution_count": 74,
   "metadata": {},
   "outputs": [
    {
     "name": "stderr",
     "output_type": "stream",
     "text": [
      "/Users/kenny/opt/anaconda3/envs/mlds/lib/python3.8/site-packages/IPython/core/interactiveshell.py:3251: DtypeWarning: Columns (0,1,2,3,4) have mixed types.Specify dtype option on import or set low_memory=False.\n",
      "  exec(code_obj, self.user_global_ns, self.user_ns)\n"
     ]
    },
    {
     "data": {
      "text/plain": [
       "0         In the war between Russia and Ukraine, the ons...\n",
       "1         @DublinLive #russia can go feck themselves, an...\n",
       "2         @JackPosobiec Russia can't handle beating Ukra...\n",
       "3         3. Specifically, the allegation of supply-line...\n",
       "4         BREAKING: Pharmaceutical titan Pfizer announce...\n",
       "                                ...                        \n",
       "661398    @TerryBe42566337 B-b-b-but Ukraine good, russi...\n",
       "661399    @RussianEmbassy @mfa_russia @FCDOGovUK @trussl...\n",
       "661400    Russia is increasingly becoming isolated from ...\n",
       "661401    @kenckar @bluwafel @ChrisCJackson No just US p...\n",
       "661402    Iconic US Brands Join Exodus of Western Compan...\n",
       "Name: content, Length: 661403, dtype: object"
      ]
     },
     "execution_count": 74,
     "metadata": {},
     "output_type": "execute_result"
    }
   ],
   "source": [
    "file = 'en_03.09_Russia_200k.csv' # 修改成你的file name\n",
    "tweets_df = pd.read_csv(file)\n",
    "tweets_df.content"
   ]
  },
  {
   "cell_type": "markdown",
   "metadata": {},
   "source": [
    "# 去除重复的行"
   ]
  },
  {
   "cell_type": "code",
   "execution_count": 75,
   "metadata": {},
   "outputs": [
    {
     "data": {
      "text/html": [
       "<div>\n",
       "<style scoped>\n",
       "    .dataframe tbody tr th:only-of-type {\n",
       "        vertical-align: middle;\n",
       "    }\n",
       "\n",
       "    .dataframe tbody tr th {\n",
       "        vertical-align: top;\n",
       "    }\n",
       "\n",
       "    .dataframe thead th {\n",
       "        text-align: right;\n",
       "    }\n",
       "</style>\n",
       "<table border=\"1\" class=\"dataframe\">\n",
       "  <thead>\n",
       "    <tr style=\"text-align: right;\">\n",
       "      <th></th>\n",
       "      <th>datetime</th>\n",
       "      <th>id</th>\n",
       "      <th>content</th>\n",
       "      <th>username</th>\n",
       "      <th>language</th>\n",
       "      <th>reply_count</th>\n",
       "      <th>retweet_count</th>\n",
       "      <th>like_count</th>\n",
       "      <th>quote_count</th>\n",
       "    </tr>\n",
       "  </thead>\n",
       "  <tbody>\n",
       "    <tr>\n",
       "      <th>50185</th>\n",
       "      <td>2022-03-09 21:00:01+00:00</td>\n",
       "      <td>1501664125549744129</td>\n",
       "      <td>Trending Now:</td>\n",
       "      <td>NaN</td>\n",
       "      <td>NaN</td>\n",
       "      <td>NaN</td>\n",
       "      <td>NaN</td>\n",
       "      <td>NaN</td>\n",
       "      <td>NaN</td>\n",
       "    </tr>\n",
       "    <tr>\n",
       "      <th>50186</th>\n",
       "      <td>#Ukraine | #Russia | #Russian | #War | #After ...</td>\n",
       "      <td>NaN</td>\n",
       "      <td>NaN</td>\n",
       "      <td>NaN</td>\n",
       "      <td>NaN</td>\n",
       "      <td>NaN</td>\n",
       "      <td>NaN</td>\n",
       "      <td>NaN</td>\n",
       "      <td>NaN</td>\n",
       "    </tr>\n",
       "    <tr>\n",
       "      <th>50187</th>\n",
       "      <td>2022-03-09 21:00:01+00:00</td>\n",
       "      <td>1501664125549744129</td>\n",
       "      <td>Trending Now:</td>\n",
       "      <td>NaN</td>\n",
       "      <td>NaN</td>\n",
       "      <td>NaN</td>\n",
       "      <td>NaN</td>\n",
       "      <td>NaN</td>\n",
       "      <td>NaN</td>\n",
       "    </tr>\n",
       "    <tr>\n",
       "      <th>50188</th>\n",
       "      <td>#Ukraine | #Russia | #Russian | #War | #After ...</td>\n",
       "      <td>NaN</td>\n",
       "      <td>NaN</td>\n",
       "      <td>NaN</td>\n",
       "      <td>NaN</td>\n",
       "      <td>NaN</td>\n",
       "      <td>NaN</td>\n",
       "      <td>NaN</td>\n",
       "      <td>NaN</td>\n",
       "    </tr>\n",
       "    <tr>\n",
       "      <th>50189</th>\n",
       "      <td>2022-03-09 21:00:01+00:00</td>\n",
       "      <td>1501664125549744129</td>\n",
       "      <td>Trending Now:</td>\n",
       "      <td>NaN</td>\n",
       "      <td>NaN</td>\n",
       "      <td>NaN</td>\n",
       "      <td>NaN</td>\n",
       "      <td>NaN</td>\n",
       "      <td>NaN</td>\n",
       "    </tr>\n",
       "    <tr>\n",
       "      <th>...</th>\n",
       "      <td>...</td>\n",
       "      <td>...</td>\n",
       "      <td>...</td>\n",
       "      <td>...</td>\n",
       "      <td>...</td>\n",
       "      <td>...</td>\n",
       "      <td>...</td>\n",
       "      <td>...</td>\n",
       "      <td>...</td>\n",
       "    </tr>\n",
       "    <tr>\n",
       "      <th>589820</th>\n",
       "      <td>NaN</td>\n",
       "      <td>NaN</td>\n",
       "      <td>NaN</td>\n",
       "      <td>NaN</td>\n",
       "      <td>NaN</td>\n",
       "      <td>NaN</td>\n",
       "      <td>NaN</td>\n",
       "      <td>NaN</td>\n",
       "      <td>NaN</td>\n",
       "    </tr>\n",
       "    <tr>\n",
       "      <th>589821</th>\n",
       "      <td>NaN</td>\n",
       "      <td>NaN</td>\n",
       "      <td>NaN</td>\n",
       "      <td>NaN</td>\n",
       "      <td>NaN</td>\n",
       "      <td>NaN</td>\n",
       "      <td>NaN</td>\n",
       "      <td>NaN</td>\n",
       "      <td>NaN</td>\n",
       "    </tr>\n",
       "    <tr>\n",
       "      <th>589822</th>\n",
       "      <td>NaN</td>\n",
       "      <td>NaN</td>\n",
       "      <td>NaN</td>\n",
       "      <td>NaN</td>\n",
       "      <td>NaN</td>\n",
       "      <td>NaN</td>\n",
       "      <td>NaN</td>\n",
       "      <td>NaN</td>\n",
       "      <td>NaN</td>\n",
       "    </tr>\n",
       "    <tr>\n",
       "      <th>589823</th>\n",
       "      <td>NaN</td>\n",
       "      <td>NaN</td>\n",
       "      <td>NaN</td>\n",
       "      <td>NaN</td>\n",
       "      <td>NaN</td>\n",
       "      <td>NaN</td>\n",
       "      <td>NaN</td>\n",
       "      <td>NaN</td>\n",
       "      <td>NaN</td>\n",
       "    </tr>\n",
       "    <tr>\n",
       "      <th>589824</th>\n",
       "      <td>via https://t.co/wooaMBbZWW</td>\n",
       "      <td>TomPaineToday</td>\n",
       "      <td>en</td>\n",
       "      <td>0</td>\n",
       "      <td>0</td>\n",
       "      <td>0.0</td>\n",
       "      <td>0.0</td>\n",
       "      <td>NaN</td>\n",
       "      <td>NaN</td>\n",
       "    </tr>\n",
       "  </tbody>\n",
       "</table>\n",
       "<p>461402 rows × 9 columns</p>\n",
       "</div>"
      ],
      "text/plain": [
       "                                                 datetime  \\\n",
       "50185                           2022-03-09 21:00:01+00:00   \n",
       "50186   #Ukraine | #Russia | #Russian | #War | #After ...   \n",
       "50187                           2022-03-09 21:00:01+00:00   \n",
       "50188   #Ukraine | #Russia | #Russian | #War | #After ...   \n",
       "50189                           2022-03-09 21:00:01+00:00   \n",
       "...                                                   ...   \n",
       "589820                                                NaN   \n",
       "589821                                                NaN   \n",
       "589822                                                NaN   \n",
       "589823                                                NaN   \n",
       "589824                        via https://t.co/wooaMBbZWW   \n",
       "\n",
       "                         id         content username language  reply_count  \\\n",
       "50185   1501664125549744129  Trending Now:       NaN      NaN          NaN   \n",
       "50186                   NaN             NaN      NaN      NaN          NaN   \n",
       "50187   1501664125549744129  Trending Now:       NaN      NaN          NaN   \n",
       "50188                   NaN             NaN      NaN      NaN          NaN   \n",
       "50189   1501664125549744129  Trending Now:       NaN      NaN          NaN   \n",
       "...                     ...             ...      ...      ...          ...   \n",
       "589820                  NaN             NaN      NaN      NaN          NaN   \n",
       "589821                  NaN             NaN      NaN      NaN          NaN   \n",
       "589822                  NaN             NaN      NaN      NaN          NaN   \n",
       "589823                  NaN             NaN      NaN      NaN          NaN   \n",
       "589824        TomPaineToday              en        0        0          0.0   \n",
       "\n",
       "        retweet_count  like_count  quote_count  \n",
       "50185             NaN         NaN          NaN  \n",
       "50186             NaN         NaN          NaN  \n",
       "50187             NaN         NaN          NaN  \n",
       "50188             NaN         NaN          NaN  \n",
       "50189             NaN         NaN          NaN  \n",
       "...               ...         ...          ...  \n",
       "589820            NaN         NaN          NaN  \n",
       "589821            NaN         NaN          NaN  \n",
       "589822            NaN         NaN          NaN  \n",
       "589823            NaN         NaN          NaN  \n",
       "589824            0.0         NaN          NaN  \n",
       "\n",
       "[461402 rows x 9 columns]"
      ]
     },
     "execution_count": 75,
     "metadata": {},
     "output_type": "execute_result"
    }
   ],
   "source": [
    "# 检查重复的行，\n",
    "tweets_df[tweets_df.duplicated(keep=False)]"
   ]
  },
  {
   "cell_type": "code",
   "execution_count": 76,
   "metadata": {},
   "outputs": [
    {
     "data": {
      "text/html": [
       "<div>\n",
       "<style scoped>\n",
       "    .dataframe tbody tr th:only-of-type {\n",
       "        vertical-align: middle;\n",
       "    }\n",
       "\n",
       "    .dataframe tbody tr th {\n",
       "        vertical-align: top;\n",
       "    }\n",
       "\n",
       "    .dataframe thead th {\n",
       "        text-align: right;\n",
       "    }\n",
       "</style>\n",
       "<table border=\"1\" class=\"dataframe\">\n",
       "  <thead>\n",
       "    <tr style=\"text-align: right;\">\n",
       "      <th></th>\n",
       "      <th>datetime</th>\n",
       "      <th>id</th>\n",
       "      <th>content</th>\n",
       "      <th>username</th>\n",
       "      <th>language</th>\n",
       "      <th>reply_count</th>\n",
       "      <th>retweet_count</th>\n",
       "      <th>like_count</th>\n",
       "      <th>quote_count</th>\n",
       "    </tr>\n",
       "  </thead>\n",
       "  <tbody>\n",
       "    <tr>\n",
       "      <th>0</th>\n",
       "      <td>2022-03-09 23:59:59+00:00</td>\n",
       "      <td>1501709415971500034</td>\n",
       "      <td>In the war between Russia and Ukraine, the ons...</td>\n",
       "      <td>BlackPointIT</td>\n",
       "      <td>en</td>\n",
       "      <td>0.0</td>\n",
       "      <td>0.0</td>\n",
       "      <td>1.0</td>\n",
       "      <td>0.0</td>\n",
       "    </tr>\n",
       "    <tr>\n",
       "      <th>1</th>\n",
       "      <td>2022-03-09 23:59:59+00:00</td>\n",
       "      <td>1501709415770214407</td>\n",
       "      <td>@DublinLive #russia can go feck themselves, an...</td>\n",
       "      <td>Anti_Arsehole</td>\n",
       "      <td>en</td>\n",
       "      <td>0.0</td>\n",
       "      <td>0.0</td>\n",
       "      <td>1.0</td>\n",
       "      <td>0.0</td>\n",
       "    </tr>\n",
       "    <tr>\n",
       "      <th>2</th>\n",
       "      <td>2022-03-09 23:59:59+00:00</td>\n",
       "      <td>1501709415681953794</td>\n",
       "      <td>@JackPosobiec Russia can't handle beating Ukra...</td>\n",
       "      <td>Manwmanybeards</td>\n",
       "      <td>en</td>\n",
       "      <td>0.0</td>\n",
       "      <td>0.0</td>\n",
       "      <td>0.0</td>\n",
       "      <td>0.0</td>\n",
       "    </tr>\n",
       "    <tr>\n",
       "      <th>3</th>\n",
       "      <td>2022-03-09 23:59:59+00:00</td>\n",
       "      <td>1501709415111864321</td>\n",
       "      <td>3. Specifically, the allegation of supply-line...</td>\n",
       "      <td>MaitreyaBhakal</td>\n",
       "      <td>en</td>\n",
       "      <td>1.0</td>\n",
       "      <td>8.0</td>\n",
       "      <td>73.0</td>\n",
       "      <td>0.0</td>\n",
       "    </tr>\n",
       "    <tr>\n",
       "      <th>4</th>\n",
       "      <td>2022-03-09 23:59:59+00:00</td>\n",
       "      <td>1501709413781893120</td>\n",
       "      <td>BREAKING: Pharmaceutical titan Pfizer announce...</td>\n",
       "      <td>OccupyDemocrats</td>\n",
       "      <td>en</td>\n",
       "      <td>24.0</td>\n",
       "      <td>397.0</td>\n",
       "      <td>1008.0</td>\n",
       "      <td>10.0</td>\n",
       "    </tr>\n",
       "    <tr>\n",
       "      <th>...</th>\n",
       "      <td>...</td>\n",
       "      <td>...</td>\n",
       "      <td>...</td>\n",
       "      <td>...</td>\n",
       "      <td>...</td>\n",
       "      <td>...</td>\n",
       "      <td>...</td>\n",
       "      <td>...</td>\n",
       "      <td>...</td>\n",
       "    </tr>\n",
       "    <tr>\n",
       "      <th>661398</th>\n",
       "      <td>2022-03-09 13:13:12+00:00</td>\n",
       "      <td>1501546644168269825</td>\n",
       "      <td>@TerryBe42566337 B-b-b-but Ukraine good, russi...</td>\n",
       "      <td>james_jurow</td>\n",
       "      <td>en</td>\n",
       "      <td>1.0</td>\n",
       "      <td>1.0</td>\n",
       "      <td>9.0</td>\n",
       "      <td>0.0</td>\n",
       "    </tr>\n",
       "    <tr>\n",
       "      <th>661399</th>\n",
       "      <td>2022-03-09 13:13:11+00:00</td>\n",
       "      <td>1501546644050960387</td>\n",
       "      <td>@RussianEmbassy @mfa_russia @FCDOGovUK @trussl...</td>\n",
       "      <td>Telemanr</td>\n",
       "      <td>en</td>\n",
       "      <td>0.0</td>\n",
       "      <td>0.0</td>\n",
       "      <td>0.0</td>\n",
       "      <td>0.0</td>\n",
       "    </tr>\n",
       "    <tr>\n",
       "      <th>661400</th>\n",
       "      <td>2022-03-09 13:13:11+00:00</td>\n",
       "      <td>1501546642624761860</td>\n",
       "      <td>Russia is increasingly becoming isolated from ...</td>\n",
       "      <td>AtomKnife</td>\n",
       "      <td>en</td>\n",
       "      <td>2.0</td>\n",
       "      <td>34.0</td>\n",
       "      <td>1206.0</td>\n",
       "      <td>0.0</td>\n",
       "    </tr>\n",
       "    <tr>\n",
       "      <th>661401</th>\n",
       "      <td>2022-03-09 13:13:11+00:00</td>\n",
       "      <td>1501546640779677696</td>\n",
       "      <td>@kenckar @bluwafel @ChrisCJackson No just US p...</td>\n",
       "      <td>Beverlyparris62</td>\n",
       "      <td>en</td>\n",
       "      <td>0.0</td>\n",
       "      <td>0.0</td>\n",
       "      <td>0.0</td>\n",
       "      <td>0.0</td>\n",
       "    </tr>\n",
       "    <tr>\n",
       "      <th>661402</th>\n",
       "      <td>2022-03-09 13:13:11+00:00</td>\n",
       "      <td>1501546640255107072</td>\n",
       "      <td>Iconic US Brands Join Exodus of Western Compan...</td>\n",
       "      <td>Muhabarishaji</td>\n",
       "      <td>en</td>\n",
       "      <td>0.0</td>\n",
       "      <td>0.0</td>\n",
       "      <td>0.0</td>\n",
       "      <td>0.0</td>\n",
       "    </tr>\n",
       "  </tbody>\n",
       "</table>\n",
       "<p>200007 rows × 9 columns</p>\n",
       "</div>"
      ],
      "text/plain": [
       "                         datetime                   id  \\\n",
       "0       2022-03-09 23:59:59+00:00  1501709415971500034   \n",
       "1       2022-03-09 23:59:59+00:00  1501709415770214407   \n",
       "2       2022-03-09 23:59:59+00:00  1501709415681953794   \n",
       "3       2022-03-09 23:59:59+00:00  1501709415111864321   \n",
       "4       2022-03-09 23:59:59+00:00  1501709413781893120   \n",
       "...                           ...                  ...   \n",
       "661398  2022-03-09 13:13:12+00:00  1501546644168269825   \n",
       "661399  2022-03-09 13:13:11+00:00  1501546644050960387   \n",
       "661400  2022-03-09 13:13:11+00:00  1501546642624761860   \n",
       "661401  2022-03-09 13:13:11+00:00  1501546640779677696   \n",
       "661402  2022-03-09 13:13:11+00:00  1501546640255107072   \n",
       "\n",
       "                                                  content         username  \\\n",
       "0       In the war between Russia and Ukraine, the ons...     BlackPointIT   \n",
       "1       @DublinLive #russia can go feck themselves, an...    Anti_Arsehole   \n",
       "2       @JackPosobiec Russia can't handle beating Ukra...   Manwmanybeards   \n",
       "3       3. Specifically, the allegation of supply-line...   MaitreyaBhakal   \n",
       "4       BREAKING: Pharmaceutical titan Pfizer announce...  OccupyDemocrats   \n",
       "...                                                   ...              ...   \n",
       "661398  @TerryBe42566337 B-b-b-but Ukraine good, russi...      james_jurow   \n",
       "661399  @RussianEmbassy @mfa_russia @FCDOGovUK @trussl...         Telemanr   \n",
       "661400  Russia is increasingly becoming isolated from ...        AtomKnife   \n",
       "661401  @kenckar @bluwafel @ChrisCJackson No just US p...  Beverlyparris62   \n",
       "661402  Iconic US Brands Join Exodus of Western Compan...    Muhabarishaji   \n",
       "\n",
       "       language  reply_count  retweet_count  like_count  quote_count  \n",
       "0            en          0.0            0.0         1.0          0.0  \n",
       "1            en          0.0            0.0         1.0          0.0  \n",
       "2            en          0.0            0.0         0.0          0.0  \n",
       "3            en          1.0            8.0        73.0          0.0  \n",
       "4            en         24.0          397.0      1008.0         10.0  \n",
       "...         ...          ...            ...         ...          ...  \n",
       "661398       en          1.0            1.0         9.0          0.0  \n",
       "661399       en          0.0            0.0         0.0          0.0  \n",
       "661400       en          2.0           34.0      1206.0          0.0  \n",
       "661401       en          0.0            0.0         0.0          0.0  \n",
       "661402       en          0.0            0.0         0.0          0.0  \n",
       "\n",
       "[200007 rows x 9 columns]"
      ]
     },
     "execution_count": 76,
     "metadata": {},
     "output_type": "execute_result"
    }
   ],
   "source": [
    "# 检查重复的行，删除重复的行\n",
    "tweets_df.drop_duplicates(inplace=True)\n",
    "tweets_df\n",
    "# 似乎因为爬虫的爬取重复问题，index有点乱？"
   ]
  },
  {
   "cell_type": "markdown",
   "metadata": {},
   "source": [
    "# 缺失值检查+去除"
   ]
  },
  {
   "cell_type": "code",
   "execution_count": 77,
   "metadata": {},
   "outputs": [
    {
     "data": {
      "text/plain": [
       "datetime          1\n",
       "id                3\n",
       "content           3\n",
       "username          7\n",
       "language          7\n",
       "reply_count       7\n",
       "retweet_count     7\n",
       "like_count       10\n",
       "quote_count      10\n",
       "dtype: int64"
      ]
     },
     "execution_count": 77,
     "metadata": {},
     "output_type": "execute_result"
    }
   ],
   "source": [
    "tweets_df.isna().sum()"
   ]
  },
  {
   "cell_type": "code",
   "execution_count": 78,
   "metadata": {},
   "outputs": [
    {
     "data": {
      "text/plain": [
       "datetime         0\n",
       "id               0\n",
       "content          0\n",
       "username         4\n",
       "language         4\n",
       "reply_count      4\n",
       "retweet_count    4\n",
       "like_count       7\n",
       "quote_count      7\n",
       "dtype: int64"
      ]
     },
     "execution_count": 78,
     "metadata": {},
     "output_type": "execute_result"
    }
   ],
   "source": [
    "# 移除有content缺失的行\n",
    "tweets_df.dropna(subset=['content'], inplace=True)\n",
    "tweets_df.isna().sum()"
   ]
  },
  {
   "cell_type": "markdown",
   "metadata": {},
   "source": [
    "# 针对content：删除字符"
   ]
  },
  {
   "cell_type": "code",
   "execution_count": 85,
   "metadata": {},
   "outputs": [
    {
     "name": "stdout",
     "output_type": "stream",
     "text": [
      "1         [#russia, #Evict, #Ireland, #russianembassy, #...\n",
      "17        [#PrayForUkraine, #RussiaUkraine, #SaveUkraine...\n",
      "21        [#Biden, #Democrats, #FJB, #BidenGasCrisis, #B...\n",
      "41                        [#CleanEnergy, #MethanePollution]\n",
      "62        [#PrayForUkraine, #RussiaUkraine, #SaveUkraine...\n",
      "                                ...                        \n",
      "661351    [#WorldWar4democracy, #America, #Russia, #Euro...\n",
      "661353    [#Ukraine, #media, #Russia, #kyiev, #UkraineRu...\n",
      "661364                  [#Truth, #Justice, #Russia, #Putin]\n",
      "661367                                            [#Russia]\n",
      "661386              [#internationalnews, #news, #worldnews]\n",
      "Name: content, Length: 31215, dtype: object\n",
      "1                                             [@DublinLive]\n",
      "2                                           [@JackPosobiec]\n",
      "7                  [@ToolmanTA, @Mlkman18, @jakeshieldsajj]\n",
      "9                                             [@guypbenson]\n",
      "12                                           [@GingersPage]\n",
      "                                ...                        \n",
      "661395                                        [@mfa_russia]\n",
      "661396                         [@AskMeLaterOn, @TigayBarry]\n",
      "661398                                   [@TerryBe42566337]\n",
      "661399    [@RussianEmbassy, @mfa_russia, @FCDOGovUK, @tr...\n",
      "661401                [@kenckar, @bluwafel, @ChrisCJackson]\n",
      "Name: content, Length: 125650, dtype: object\n"
     ]
    }
   ],
   "source": [
    "# 看看存在的属性\n",
    "tmp = tweets_df.content.str.findall(\"#\\w+\")\n",
    "print(tmp[tmp.apply(lambda x: x!=[])]) # 查看存在#的行\n",
    "\n",
    "tmp = tweets_df.content.str.findall(\"@\\w+\")\n",
    "print(tmp[tmp.apply(lambda x: x!=[])]) # 查看存在#的行\n"
   ]
  },
  {
   "cell_type": "code",
   "execution_count": 87,
   "metadata": {},
   "outputs": [
    {
     "data": {
      "text/plain": [
       "'@GingersPage She’s a simpleton, but an American simpleton.  So we need to bring her home from her money making trip in Russia'"
      ]
     },
     "execution_count": 87,
     "metadata": {},
     "output_type": "execute_result"
    }
   ],
   "source": [
    "tweets_df.content[12]"
   ]
  },
  {
   "cell_type": "code",
   "execution_count": 66,
   "metadata": {},
   "outputs": [],
   "source": [
    "# tweets_df.content[0:2].str.replace(\"\\n\", \"\").str.replace(r\"https*\\S+\", \"\",regex=True)[0]"
   ]
  },
  {
   "cell_type": "code",
   "execution_count": 67,
   "metadata": {},
   "outputs": [],
   "source": [
    "# 移除content的@ 和 \\n\n",
    "tweets_df.content = tweets_df.content.str.replace(\"\\n\", \"\")\n",
    "# 去除https\n",
    "tweets_df.content = tweets_df.content.str.replace(r\"https*\\S+\", \"\", regex=True)\n",
    "# &符号 -> and\n",
    "tweets_df.content = tweets_df.content.str.replace(\"&amp;\", \"and\")\n",
    "\n",
    "# 移除@ +后面的 word! 因为【通常不是内容的一部分】！\n",
    "tweets_df.content = tweets_df.content.str.replace(r\"@\\w+\", \"\", regex=True)\n",
    "\n",
    "# tweets_df"
   ]
  },
  {
   "cell_type": "code",
   "execution_count": 68,
   "metadata": {},
   "outputs": [
    {
     "data": {
      "text/plain": [
       "0         In the war between Russia and Ukraine, the ons...\n",
       "1         DublinLive #russia can go feck themselves, and...\n",
       "2         JackPosobiec Russia can't handle beating Ukrai...\n",
       "3         3. Specifically, the allegation of supply-line...\n",
       "4         BREAKING: Pharmaceutical titan Pfizer announce...\n",
       "                                ...                        \n",
       "661398    TerryBe42566337 B-b-b-but Ukraine good, russia...\n",
       "661399    RussianEmbassy mfa_russia FCDOGovUK trussliz D...\n",
       "661400    Russia is increasingly becoming isolated from ...\n",
       "661401    kenckar bluwafel ChrisCJackson No just US prod...\n",
       "661402    Iconic US Brands Join Exodus of Western Compan...\n",
       "Name: content, Length: 200004, dtype: object"
      ]
     },
     "execution_count": 68,
     "metadata": {},
     "output_type": "execute_result"
    }
   ],
   "source": [
    "tweets_df.content"
   ]
  },
  {
   "cell_type": "code",
   "execution_count": 69,
   "metadata": {},
   "outputs": [],
   "source": [
    "# 1提取tag\n",
    "tmp = tweets_df.content.str.findall(\"#\\w+\")\n",
    "# print(tmp[tmp.apply(lambda x: x!=[])]) # 查看存在#的行\n",
    "\n",
    "# 新建列接受#的内容，列`tags`\n",
    "tweets_df['tags'] = tmp # 存为list，新的一列\n",
    "# print(tmp)\n",
    "\n",
    "# 2 并移除# 【但保留word】 因为【很多#，是内容的一部分】\n",
    "# tweets_df.content = tweets_df.content.str.replace(r\"#\\w+\", \"\", regex=True)\n",
    "tweets_df.content = tweets_df.content.str.replace(r\"#\", \"\", regex=True)\n",
    "\n",
    "# 最后，上面各种移除后，如果产生多余空格, 改为单个\n",
    "tweets_df.content = tweets_df.content.str.replace(r'\\s{2,}', \" \", regex=True)"
   ]
  },
  {
   "cell_type": "code",
   "execution_count": 70,
   "metadata": {},
   "outputs": [
    {
     "data": {
      "text/plain": [
       "0         In the war between Russia and Ukraine, the ons...\n",
       "1         DublinLive russia can go feck themselves, and ...\n",
       "2         JackPosobiec Russia can't handle beating Ukrai...\n",
       "3         3. Specifically, the allegation of supply-line...\n",
       "4         BREAKING: Pharmaceutical titan Pfizer announce...\n",
       "                                ...                        \n",
       "661398    TerryBe42566337 B-b-b-but Ukraine good, russia...\n",
       "661399    RussianEmbassy mfa_russia FCDOGovUK trussliz D...\n",
       "661400    Russia is increasingly becoming isolated from ...\n",
       "661401    kenckar bluwafel ChrisCJackson No just US prod...\n",
       "661402    Iconic US Brands Join Exodus of Western Compan...\n",
       "Name: content, Length: 200004, dtype: object"
      ]
     },
     "execution_count": 70,
     "metadata": {},
     "output_type": "execute_result"
    }
   ],
   "source": [
    "tweets_df.content"
   ]
  },
  {
   "cell_type": "markdown",
   "metadata": {},
   "source": [
    "# 修改完后，重新存起来"
   ]
  },
  {
   "cell_type": "code",
   "execution_count": 47,
   "metadata": {},
   "outputs": [],
   "source": [
    "tweets_df.to_csv(\"processed_\" + file,index=False)"
   ]
  }
 ],
 "metadata": {
  "interpreter": {
   "hash": "b2c160ae0b5927c6ec75be04e5edb69e6ff9d7054590c8c5a96361fd155333fb"
  },
  "kernelspec": {
   "display_name": "Python 3.8.12 ('mlds')",
   "language": "python",
   "name": "python3"
  },
  "language_info": {
   "codemirror_mode": {
    "name": "ipython",
    "version": 3
   },
   "file_extension": ".py",
   "mimetype": "text/x-python",
   "name": "python",
   "nbconvert_exporter": "python",
   "pygments_lexer": "ipython3",
   "version": "3.8.12"
  },
  "orig_nbformat": 4
 },
 "nbformat": 4,
 "nbformat_minor": 2
}
