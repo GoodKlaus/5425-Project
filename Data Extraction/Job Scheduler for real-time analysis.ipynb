{
 "cells": [
  {
   "cell_type": "code",
   "execution_count": 9,
   "id": "3cef9149-2663-47c1-a746-0ceee785625c",
   "metadata": {
    "tags": []
   },
   "outputs": [],
   "source": [
    "from flask import Flask\n",
    "import requests\n",
    "import os\n",
    "import re\n",
    "import json\n",
    "import csv\n",
    "from datetime import datetime, timedelta\n",
    "import dateutil.parser\n",
    "import unicodedata\n",
    "import time\n",
    "\n",
    "import snscrape.modules.twitter as sntwitter\n",
    "import atexit\n",
    "from apscheduler.schedulers.background import BackgroundScheduler"
   ]
  },
  {
   "cell_type": "code",
   "execution_count": 7,
   "id": "23f391e3-b397-4a8f-aa97-7fb2ca1a6c64",
   "metadata": {},
   "outputs": [],
   "source": [
    "import pandas as pd\n",
    "import re\n",
    "from textblob import TextBlob\n",
    "import csv\n",
    "import numpy as np\n",
    "import nltk\n",
    "import matplotlib.pyplot as plt \n",
    "import seaborn as sns\n",
    "from wordcloud import WordCloud"
   ]
  },
  {
   "cell_type": "code",
   "execution_count": 14,
   "id": "425ebdc4-add7-4fdb-8ad3-d2d683ad6001",
   "metadata": {},
   "outputs": [],
   "source": [
    "from dash import Dash\n",
    "from dash import dcc\n",
    "from dash import html\n"
   ]
  },
  {
   "cell_type": "code",
   "execution_count": 3,
   "id": "8e0d79b5-dd4d-4b02-a6ab-dd2ca9fe9dce",
   "metadata": {},
   "outputs": [],
   "source": [
    "from tqdm import tqdm\n",
    "\n",
    "def deEmojify(text):\n",
    "    regrex_pattern = re.compile(pattern = \"[\"\n",
    "        u\"\\U0001F600-\\U0001F64F\"  # emoticons\n",
    "        u\"\\U0001F300-\\U0001F5FF\"  # symbols & pictographs\n",
    "        u\"\\U0001F680-\\U0001F6FF\"  # transport & map symbols\n",
    "        u\"\\U0001F1E0-\\U0001F1FF\"  # flags (iOS)\n",
    "                           \"]+\", flags = re.UNICODE)\n",
    "    return regrex_pattern.sub(r'',text)\n",
    "\n",
    "def filter_punc(text):\n",
    "    punc = '\"$%&\\'()*+-/:<=>?@[\\\\]^_`{|}~'\n",
    "    temp = ''.join([c for c in text if ord(c)<128])\n",
    "    return temp.translate(str.maketrans('', '', punc))\n"
   ]
  },
  {
   "cell_type": "code",
   "execution_count": 4,
   "id": "884a1b39-7b16-4620-8bb1-f5e158beae8f",
   "metadata": {
    "tags": []
   },
   "outputs": [],
   "source": [
    "def run_processing_steps(tweets_df):\n",
    "    \n",
    "    tweets_df.drop_duplicates(inplace=True)\n",
    "    # 先drop\n",
    "    tweets_df.dropna(subset=['content'], inplace=True)\n",
    "    \n",
    "    tmp = tweets_df.content.str.findall(\"#\\w+\")\n",
    "    # print(tmp[tmp.apply(lambda x: x!=[])]) # 查看存在#的行\n",
    "\n",
    "    tmp = tweets_df.content.str.findall(\"@\\w+\")\n",
    "    # print(tmp[tmp.apply(lambda x: x!=[])]) # 查看存在@的行\n",
    "    \n",
    "    # 移除content的@ 和 \\n\n",
    "    tweets_df.content = tweets_df.content.str.replace(\"\\n\", \"\")\n",
    "    # 去除https\n",
    "    tweets_df.content = tweets_df.content.str.replace(r\"https*\\S+\", \"\", regex=True)\n",
    "    # &符号 -> and\n",
    "    tweets_df.content = tweets_df.content.str.replace(\"&amp;\", \"and\")\n",
    "    tweets_df.content = tweets_df.content.str.replace(r\"@\\w+\", \"\", regex=True)\n",
    "    # 1提取tag\n",
    "    tmp = tweets_df.content.str.findall(\"#\\w+\")\n",
    "    # print(tmp[tmp.apply(lambda x: x!=[])]) # 查看存在#的行\n",
    "\n",
    "    # 新建列接受#的内容，列`tags`\n",
    "    tweets_df['tags'] = tmp # 存为list，新的一列\n",
    "    # print(tmp)\n",
    "\n",
    "    # 2 并移除# 【但保留word】 因为【很多#，是内容的一部分】\n",
    "    # tweets_df.content = tweets_df.content.str.replace(r\"#\\w+\", \"\", regex=True)\n",
    "    tweets_df.content = tweets_df.content.str.replace(r\"#\", \" \", regex=True)\n",
    "    \n",
    "    tweets_df.content = tweets_df.content.apply(lambda x: deEmojify(x))\n",
    "    tweets_df.content = tweets_df.content.str.replace(r'\\s{2,}', \" \", regex=True)\n",
    "    tweets_df.content = tweets_df.content.apply(filter_punc)\n",
    "    \n",
    "    # 处理完所有的 再drop nan\n",
    "    tweets_df.dropna(subset=['content'], inplace=True)\n",
    "    return tweets_df"
   ]
  },
  {
   "cell_type": "code",
   "execution_count": 5,
   "id": "70e387e2-10b1-4c65-8ce3-1600bc547a1a",
   "metadata": {},
   "outputs": [],
   "source": [
    "def get_tweets(keyword, start_time, end_time, limit):\n",
    "    tweets_list = []\n",
    "    for i,tweet in enumerate(sntwitter.TwitterSearchScraper(f'{keyword} since_time:{start_time} until_time:{end_time} lang:en').get_items()):\n",
    "        if i > limit:\n",
    "            break\n",
    "        tweets_list.append([tweet.date, tweet.id, tweet.content, tweet.user.username, tweet.lang, tweet.replyCount, tweet.retweetCount, tweet.likeCount, tweet.quoteCount])\n",
    "    tweets_df = pd.DataFrame(tweets_list, columns=['datetime', 'id', 'content' ,'username', 'language', 'reply_count', 'retweet_count', 'like_count', 'quote_count'])\n",
    "    return tweets_df"
   ]
  },
  {
   "cell_type": "code",
   "execution_count": 6,
   "id": "722ece94-e6e8-4985-b657-3e1071d18fa2",
   "metadata": {},
   "outputs": [],
   "source": [
    "def sentiment_analysis(df):\n",
    "    sentiments_r = dict()\n",
    "    Russia_sentiment = []\n",
    "    for ind, row in df.iterrows():\n",
    "        content = row.content\n",
    "        blob = TextBlob(content)\n",
    "        score = blob.sentiment.polarity\n",
    "        Russia_sentiment.append(score)\n",
    "        if score > 0:\n",
    "            sentiments_r[content] = 1\n",
    "        elif score == 0:\n",
    "            sentiments_r[content] = 0\n",
    "        else:\n",
    "            sentiments_r[content] = -1\n",
    "    label = list(sentiments_r.values())\n",
    "    df_label= pd.DataFrame({'label':label})\n",
    "    df = df.join(df_label)\n",
    "    return df"
   ]
  },
  {
   "cell_type": "code",
   "execution_count": 20,
   "id": "02f6c83a-57cc-47b7-ba8b-7e9a83803faf",
   "metadata": {},
   "outputs": [],
   "source": [
    "def twitter_bot(limit, duration_in_min):\n",
    "    current_dt = datetime.now()\n",
    "    new_dt = current_dt - timedelta(hours=0,minutes=duration_in_min)\n",
    "    end_time = int(current_dt.timestamp())\n",
    "    start_time = int(new_dt.timestamp())\n",
    "    \n",
    "    #path = r\"/Users/dingni/Desktop/NUS MComp/CS5425/5425-Project/\"\n",
    "    print(\"running\")\n",
    "    \n",
    "    filename = \"labeled_tweets_\"+ current_dt.strftime(\"%Y-%m-%d %H:%M\") \n",
    "\n",
    "    try:\n",
    "        # print(\"Getting Tweets for time between \", new_dt.strftime(\"%Y-%m-%d %H:%M\"), ' and ',\n",
    "        #      current_dt.strftime(\"%Y-%m-%d %H:%M\"))\n",
    "        tweets_df_ukraine = get_tweets('Ukraine', start_time, end_time, limit)\n",
    "        tweets_df_russia = get_tweets('Russia', start_time, end_time, limit)\n",
    "        processed_df_ukraine = run_processing_steps(tweets_df_ukraine)\n",
    "        processed_df_russia = run_processing_steps(tweets_df_russia)\n",
    "        df_russia = sentiment_analysis(processed_df_russia)\n",
    "        df_ukraine = sentiment_analysis(processed_df_ukraine)\n",
    "        \n",
    "        ##pending display part\n",
    "        \n",
    "        # tweets_df_ukraine.to_csv(f\"../scraped_tweets/{filename}_Ukraine.csv\")\n",
    "        # df_russia.to_csv(f\"../scraped_tweets/{filename}_Russia.csv\")\n",
    "        return new_dt, current_dt\n",
    "    except Exception as e:\n",
    "        print('It is not working...')\n",
    "        print(e)\n",
    "    "
   ]
  },
  {
   "cell_type": "code",
   "execution_count": 21,
   "id": "15bc64dd-870c-449c-a026-4f33e908f089",
   "metadata": {},
   "outputs": [
    {
     "name": "stdout",
     "output_type": "stream",
     "text": [
      " * Serving Flask app '__main__' (lazy loading)\n",
      " * Environment: production\n",
      "\u001b[31m   WARNING: This is a development server. Do not use it in a production deployment.\u001b[0m\n",
      "\u001b[2m   Use a production WSGI server instead.\u001b[0m\n",
      " * Debug mode: off\n"
     ]
    },
    {
     "name": "stderr",
     "output_type": "stream",
     "text": [
      " * Running on http://127.0.0.1:5000 (Press CTRL+C to quit)\n"
     ]
    },
    {
     "name": "stdout",
     "output_type": "stream",
     "text": [
      "running\n",
      "Successfully scraped and processed tweets for time between  2022-04-30 22:27  and  2022-04-30 22:28\n",
      "running\n",
      "Successfully scraped and processed tweets for time between  2022-04-30 22:27  and  2022-04-30 22:28\n",
      "running\n",
      "Successfully scraped and processed tweets for time between  2022-04-30 22:28  and  2022-04-30 22:29\n",
      "running\n",
      "Successfully scraped and processed tweets for time between  2022-04-30 22:28  and  2022-04-30 22:29\n",
      "running\n",
      "Successfully scraped and processed tweets for time between  2022-04-30 22:29  and  2022-04-30 22:30\n",
      "running\n",
      "Successfully scraped and processed tweets for time between  2022-04-30 22:29  and  2022-04-30 22:30\n",
      "running\n",
      "Successfully scraped and processed tweets for time between  2022-04-30 22:30  and  2022-04-30 22:31\n",
      "running\n",
      "Successfully scraped and processed tweets for time between  2022-04-30 22:30  and  2022-04-30 22:31\n"
     ]
    }
   ],
   "source": [
    "application = Flask(__name__)\n",
    "\n",
    "@application.route(\"/\")\n",
    "\n",
    "def job():\n",
    "    new_dt, current_dt = twitter_bot(100, 1)\n",
    "    print(\"Successfully scraped and processed tweets for time between \", new_dt.strftime(\"%Y-%m-%d %H:%M\"), ' and ',\n",
    "             current_dt.strftime(\"%Y-%m-%d %H:%M\"))\n",
    "\n",
    "scheduler = BackgroundScheduler()\n",
    "scheduler.add_job(func=job, trigger=\"interval\", minutes = 5)\n",
    "scheduler.start()\n",
    "\n",
    "atexit.register(lambda: scheduler.shutdown())\n",
    "if __name__ == \"__main__\":\n",
    "    application.run(port=5000)"
   ]
  },
  {
   "cell_type": "code",
   "execution_count": null,
   "id": "380d1be7-efab-419c-9a70-67a9acf5681b",
   "metadata": {},
   "outputs": [],
   "source": []
  }
 ],
 "metadata": {
  "kernelspec": {
   "display_name": "CS5425",
   "language": "python",
   "name": "cs5425"
  },
  "language_info": {
   "codemirror_mode": {
    "name": "ipython",
    "version": 3
   },
   "file_extension": ".py",
   "mimetype": "text/x-python",
   "name": "python",
   "nbconvert_exporter": "python",
   "pygments_lexer": "ipython3",
   "version": "3.8.12"
  }
 },
 "nbformat": 4,
 "nbformat_minor": 5
}
